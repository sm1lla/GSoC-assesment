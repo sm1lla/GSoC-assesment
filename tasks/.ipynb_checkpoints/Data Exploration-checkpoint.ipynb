{
 "cells": [
  {
   "cell_type": "code",
   "execution_count": 1,
   "id": "f7600c19-eace-4f1a-935a-f0f8aa1d7eb3",
   "metadata": {},
   "outputs": [],
   "source": [
    "import pandas as pd"
   ]
  },
  {
   "cell_type": "code",
   "execution_count": 2,
   "id": "3c21ac13-8c46-4780-aaf4-d0ed4003327c",
   "metadata": {},
   "outputs": [],
   "source": [
    "df = pd.read_csv(\"data_with_sentiment.csv\")"
   ]
  },
  {
   "cell_type": "code",
   "execution_count": 3,
   "id": "4c3cde29-434f-470a-b9ed-3fd3adacbf9f",
   "metadata": {},
   "outputs": [
    {
     "data": {
      "text/plain": [
       "post_id                                                           1jjl0ua\n",
       "timestamp                                             2025-03-25T15:44:23\n",
       "content                 Ive hit my limit and burned out\\nI’ve been say...\n",
       "preprocessed_content    ive hit limit burned ive saying weeks cant kee...\n",
       "likes                                                                   2\n",
       "comments                                                                2\n",
       "shares                                                                  0\n",
       "sentiment                                                         Neutral\n",
       "risk_level                                                           High\n",
       "Name: 2, dtype: object"
      ]
     },
     "execution_count": 3,
     "metadata": {},
     "output_type": "execute_result"
    }
   ],
   "source": [
    "df.loc[2]"
   ]
  },
  {
   "cell_type": "code",
   "execution_count": 6,
   "id": "226defb2-3c02-4994-8e49-f8d200a8ebcf",
   "metadata": {},
   "outputs": [
    {
     "name": "stdout",
     "output_type": "stream",
     "text": [
      "Sentiment: Positive\n",
      "Risk Level: Moderate\n",
      "I need advice for my best friend.\n",
      "My best mate 18f has a real spicy brain;\n",
      " ADHD, (not-officially diagnosed) autism, possible BPD, depression, anxiety, and trauma. \n",
      "My best mate has been struggling with mental health issues since she was 12 and dealing with fucked up events from 10. She FaceTimes me almost everyday, sometimes just to talk about her day and every so often, she calls me or texts and has a breakdown, or at least tells me that she’s in a really bad headspace. \n",
      "\n",
      "I try my best to help, tell her mostly the truth and sometimes the things I think she needs to here, and I know it’s not great, but I’ve never been through this myself and I don’t know anyone else who has. I feel the best I can do is put a tiny bandaid on the cut that is that nights breakdown. \n",
      "\n",
      "I get existential questions that I am nowhere near qualified to answer, watch as she struggles with sexuality on top of everything, hear about the occasional self harm, hearing about her ex-girlfriend. \n",
      "\n",
      "I’ve heard more than once that I can’t really do anything but be there for her, but clearly it’s not enough. Help???\n",
      "\n",
      "\n",
      "Sentiment: Positive\n",
      "Risk Level: Low\n",
      "Craving for my younger years\n",
      "\n",
      "I’m currently 27, mentally probably a few years younger than that. While 27 is still very young, the world has already shoved you with responsibilities that you’re still trying to grasp. Sometimes you feel confident that you got them, but sometimes, you just want to run to your parents desperately afraid of making a mistake that may cost you a great deal. My 20s have been tough with a whole lot of life quakes I am not prepared for. Maybe my MDD, anxiety disorder and C-PTSD could be amplifying it, but big stressors nonetheless. I don't enjoy all the painful struggles, but maybe I took the moments in between for granted when I looked at the bigger picture. Underneath all the struggle, I had moments of joy, quiet, and success that my mind drowned out in favor of all the chaos. My mind can’t stop being hyper-vigilant because of all the stress.\n",
      "\n",
      "I impulsively went out today because I wanted to take my mind off the decision to finally leave my job. I decided to go to a store so I could buy my friends at work goodbye presents for when I leave, and then I felt a sense of “warm sadness” seeing all the little toys and trinkets- Barbie, Carebears, Disney, Sanrio, Harry Potter, among other things that reminded me of my childhood. Suddenly, I was reminiscing on my “baby years”. I didn't have the easiest childhood, but my god I miss how much simpler everything was. Despite the difficulties, my imagination made me feel unstoppable. I miss being a 9-year-old with her Pokemon and I miss being a 15-year-old with her daily film binge-watching. But then, sometimes I don’t understand why I long for my younger years when I was struggling  back then.\n",
      "\n",
      "As I entered my late 20s, I found myself longing for my early and mid-20s as well. While more cynical, I still held on to hope of better days. Landing my first job, traveling the world, going out with my friends often, getting the butterflies with romantic connections, dinners with my family, among other pleasures. Of course, these pleasures still exist today in my life, but I have grown much more afraid. The last few months showed me how fragile everything is. Anything and anyone you love can disappear without warning. Everything becomes a matter of survival. We have to do what we can to get by and it is a privilege to actually be able to do the things you want. At this point, we all want stability, peace, to be loved and cared for, to be healthy, and to be able to wake up the next day hoping that it’s a good day much more than we ever did. I just miss and long for some quietness.\n",
      "\n",
      "\n",
      "Sentiment: Neutral\n",
      "Risk Level: High\n",
      "Ive hit my limit and burned out\n",
      "I’ve been saying for weeks I can’t keep up with my life mentally and this morning I’ve finally crashed out and my mental health just went with it. \n",
      "I quit one of my jobs this morning because of the massive wave of anxiety that hit me on my way out the door and now my spouse is not being supportive. \n",
      "Why do I feel so wrong about quitting my job? I feel the world on my chest. I don’t want to continue on the planet man. \n",
      "\n",
      "\n",
      "Sentiment: Negative\n",
      "Risk Level: Moderate\n",
      "One of my best friends is sh-ing and I don't know what to do\n",
      "TW: Mentions of self-harm\n",
      "\n",
      " I've suspected it for a long while, but today my suspicions finally got proved when I saw small cuts on her arms.\n",
      "I used to sh a few years ago, and I know I would've felt awful if anyone had mentioned it to me. I gradually got better and I've been sober for about a year. So yeah, I know what it feels like and I don't want to put her in an uncomfortable position. But I'm already not doing well mentally and knowing that she's sh-ing makes it worse. I'm worried sick about her, one time she said she wouldn't come to school for a while and I just broke down. When she came back, she looked terrible, with literally black rings under her eyes. I want to help but I don't know how.\n",
      "I don't know if anyone else in our friend group has noticed, or if her parents know, but I think she's getting professional help. Nonetheless, I still want her to know she's not alone and that I want to be there for her, because I know she's struggling a lot. We're both 19 and in our senior year, but there's no chance I could speak to her alone at school, so I thought about sending her long text when the holidays start, so I don't have to put her in an uncomfortable position by confronting her about it face to face. Does anyone have any advice? I love her so much and I can't bear to think about her hurting herself and I want to be there for her so badly. Any advice is greatly appreciated <3\n",
      "\n",
      "\n",
      "Sentiment: Neutral\n",
      "Risk Level: Low\n",
      "How can you feel secure and don't wait for anyone's validation?\n",
      "I have had a troubled childhood. I'm younger daughter of the house and have a big brother. We don't have much age difference though. \n",
      "\n",
      "All my life i have been treated as a secondary person whenever it came to anything at home. I never said anything and thought this is how everything works. This is how younger child is supposed to be. But now when I look back at things I feel like that neglected childhood treatment have made me very insecure, approval seeking and person with low self esteem \n",
      "\n",
      "Now since last 3 years I'm trying to improve my mental health.  I have started focusing on my strengths. \n",
      "I do things that make me happy \n",
      "But it feels really tough for me to changes things that I have seen for 25 years of my life\n",
      "Does this happen to everyone or do I need to be more strong.\n",
      "\n",
      "I'm doing everything to make myself more confident and independent, but sometimes it becomes hard to feel that way and again I start looking at people to validate me \n",
      "\n",
      "Exactly how much time does it take to overcome such things. \n",
      "\n",
      "\n"
     ]
    }
   ],
   "source": [
    "for i in range(5):\n",
    "    print(f\"Sentiment: {df.loc[i].sentiment}\")\n",
    "    print(f\"Risk Level: {df.loc[i].risk_level}\")\n",
    "    print(f\"{df.loc[i].content}\\n\\n\")"
   ]
  },
  {
   "cell_type": "code",
   "execution_count": null,
   "id": "8678b552-fe82-4611-9527-e978a6c8ede8",
   "metadata": {},
   "outputs": [],
   "source": [
    "df = pd.read_csv(\"data_with_location.csv\")"
   ]
  }
 ],
 "metadata": {
  "kernelspec": {
   "display_name": "Python 3 (ipykernel)",
   "language": "python",
   "name": "python3"
  },
  "language_info": {
   "codemirror_mode": {
    "name": "ipython",
    "version": 3
   },
   "file_extension": ".py",
   "mimetype": "text/x-python",
   "name": "python",
   "nbconvert_exporter": "python",
   "pygments_lexer": "ipython3",
   "version": "3.9.21"
  }
 },
 "nbformat": 4,
 "nbformat_minor": 5
}
